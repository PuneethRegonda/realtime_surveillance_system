{
 "cells": [
  {
   "cell_type": "code",
   "execution_count": 2,
   "metadata": {},
   "outputs": [],
   "source": [
    "import sys"
   ]
  },
  {
   "cell_type": "code",
   "execution_count": 4,
   "metadata": {},
   "outputs": [
    {
     "name": "stdout",
     "output_type": "stream",
     "text": [
      "^C\n",
      "Requirement already satisfied: requests in d:\\softwares\\anaconda\\lib\\site-packages (2.24.0)\n",
      "Requirement already satisfied: idna<3,>=2.5 in d:\\softwares\\anaconda\\lib\\site-packages (from requests) (2.10)\n",
      "Requirement already satisfied: certifi>=2017.4.17 in d:\\softwares\\anaconda\\lib\\site-packages (from requests) (2020.6.20)\n",
      "Requirement already satisfied: urllib3!=1.25.0,!=1.25.1,<1.26,>=1.21.1 in d:\\softwares\\anaconda\\lib\\site-packages (from requests) (1.25.9)\n",
      "Requirement already satisfied: chardet<4,>=3.0.2 in d:\\softwares\\anaconda\\lib\\site-packages (from requests) (3.0.4)\n",
      "Requirement already satisfied: opencv-python in d:\\softwares\\anaconda\\lib\\site-packages (4.4.0.46)\n",
      "Requirement already satisfied: pip in d:\\softwares\\anaconda\\lib\\site-packages (20.1.1)\n",
      "Requirement already satisfied: install in d:\\softwares\\anaconda\\lib\\site-packages (1.3.4)\n",
      "Requirement already satisfied: pillow in d:\\softwares\\anaconda\\lib\\site-packages (7.2.0)\n",
      "Requirement already satisfied: numpy>=1.17.3 in d:\\softwares\\anaconda\\lib\\site-packages (from opencv-python) (1.18.5)\n",
      "^C\n",
      "Requirement already satisfied: pillow in d:\\softwares\\anaconda\\lib\\site-packages (7.2.0)\n",
      "^C\n"
     ]
    }
   ],
   "source": [
    "# Here are all the installs and imports you will need for facemap to run.\n",
    "    \n",
    "!{sys.executable} -m pip install requests\n",
    "# !{sys.executable} -m pip install socketIO-client\n",
    "!{sys.executable} -m pip install opencv-python pip install pillow\n",
    "!{sys.executable} -m pip install pillow\n",
    "!{sys.executable} -m pip install \"python-socketio[client]\"\n"
   ]
  },
  {
   "cell_type": "code",
   "execution_count": null,
   "metadata": {},
   "outputs": [],
   "source": [
    "import requests\n",
    "import socketio\n",
    "import cv2\n",
    "import os\n",
    "import numpy as np\n",
    "from PIL import Image\n",
    "import pickle\n",
    "import random"
   ]
  }
 ],
 "metadata": {
  "kernelspec": {
   "display_name": "Python 3",
   "language": "python",
   "name": "python3"
  },
  "language_info": {
   "codemirror_mode": {
    "name": "ipython",
    "version": 3
   },
   "file_extension": ".py",
   "mimetype": "text/x-python",
   "name": "python",
   "nbconvert_exporter": "python",
   "pygments_lexer": "ipython3",
   "version": "3.8.3"
  }
 },
 "nbformat": 4,
 "nbformat_minor": 4
}
