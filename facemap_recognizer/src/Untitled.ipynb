{
 "cells": [
  {
   "cell_type": "code",
   "execution_count": 3,
   "metadata": {},
   "outputs": [
    {
     "name": "stdout",
     "output_type": "stream",
     "text": [
      "Collecting imutils\n",
      "  Downloading imutils-0.5.3.tar.gz (17 kB)\n",
      "Building wheels for collected packages: imutils\n",
      "  Building wheel for imutils (setup.py): started\n",
      "  Building wheel for imutils (setup.py): finished with status 'done'\n",
      "  Created wheel for imutils: filename=imutils-0.5.3-py3-none-any.whl size=25856 sha256=ab4c5ab00ae1f08c2f6401cfe44a9c4dd91874309b383c5961077eabbc1f3479\n",
      "  Stored in directory: c:\\users\\17211\\appdata\\local\\pip\\cache\\wheels\\c8\\d6\\0f\\b0c3892b70c59f0d202f8619a449f7d14cb839a0af2f943869\n",
      "Successfully built imutils\n",
      "Installing collected packages: imutils\n",
      "Successfully installed imutils-0.5.3\n"
     ]
    }
   ],
   "source": [
    "import sys\n",
    "!{sys.executable} -m pip install --upgrade imutils\""
   ]
  },
  {
   "cell_type": "code",
   "execution_count": 6,
   "metadata": {},
   "outputs": [],
   "source": [
    "from imutils.video import VideoStream\n",
    "import argparse\n",
    "import imutils\n",
    "import time\n",
    "import cv2\n",
    "import os"
   ]
  },
  {
   "cell_type": "code",
   "execution_count": null,
   "metadata": {},
   "outputs": [
    {
     "name": "stdout",
     "output_type": "stream",
     "text": [
      "[INFO] starting video stream...\n"
     ]
    }
   ],
   "source": [
    "output = \"./images/chakri\"\n",
    "\n",
    "# load OpenCV's Haar cascade for face detection from disk\n",
    "detector = cv2.CascadeClassifier('cascades/data/haarcascade_frontalface_alt.xml')\n",
    "# initialize the video stream, allow the camera sensor to warm up,\n",
    "# and initialize the total number of example faces written to disk\n",
    "# thus far\n",
    "print(\"[INFO] starting video stream...\")\n",
    "vs = VideoStream(src=0).start()\n",
    "# vs = VideoStream(usePiCamera=True).start()\n",
    "time.sleep(2.0)\n",
    "total = 0\n",
    "\n",
    "# loop over the frames from the video stream\n",
    "while True:\n",
    "\t# grab the frame from the threaded video stream, clone it, (just\n",
    "\t# in case we want to write it to disk), and then resize the frame\n",
    "\t# so we can apply face detection faster\n",
    "\tframe = vs.read()\n",
    "\torig = frame.copy()\n",
    "\tframe = imutils.resize(frame, width=400)\n",
    "\t# detect faces in the grayscale frame\n",
    "\trects = detector.detectMultiScale(\n",
    "\t\tcv2.cvtColor(frame, cv2.COLOR_BGR2GRAY), scaleFactor=1.1, \n",
    "\t\tminNeighbors=5, minSize=(30, 30))\n",
    "\t# loop over the face detections and draw them on the frame\n",
    "\tfor (x, y, w, h) in rects:\n",
    "\t\tcv2.rectangle(frame, (x, y), (x + w, y + h), (0, 255, 0), 2)\n",
    "\t# show the output frame\n",
    "\tcv2.imshow(\"Frame\", frame)\n",
    "\tkey = cv2.waitKey(1) & 0xFF\n",
    " \n",
    "\t# if the `k` key was pressed, write the *original* frame to disk\n",
    "\t# so we can later process it and use it for face recognition\n",
    "\tif key == ord(\"k\"):\n",
    "\t\tp = os.path.sep.join([output, \"{}.png\".format(\n",
    "\t\t\tstr(total).zfill(5))])\n",
    "\t\tcv2.imwrite(p, orig)\n",
    "\t\ttotal += 1\n",
    "\t# if the `q` key was pressed, break from the loop\n",
    "\telif key == ord(\"q\"):\n",
    "\t\tbreak\n",
    "        \n",
    "# print the total faces saved and do a bit of cleanup\n",
    "print(\"[INFO] {} face images stored\".format(total))\n",
    "print(\"[INFO] cleaning up...\")\n",
    "# cap.release()\n",
    "# cv2.destroyAllWindows()\n",
    "cv2.destroyAllWindows()\n",
    "vs.stop()"
   ]
  },
  {
   "cell_type": "code",
   "execution_count": null,
   "metadata": {},
   "outputs": [],
   "source": []
  }
 ],
 "metadata": {
  "kernelspec": {
   "display_name": "Python 3",
   "language": "python",
   "name": "python3"
  },
  "language_info": {
   "codemirror_mode": {
    "name": "ipython",
    "version": 3
   },
   "file_extension": ".py",
   "mimetype": "text/x-python",
   "name": "python",
   "nbconvert_exporter": "python",
   "pygments_lexer": "ipython3",
   "version": "3.8.3"
  }
 },
 "nbformat": 4,
 "nbformat_minor": 4
}
